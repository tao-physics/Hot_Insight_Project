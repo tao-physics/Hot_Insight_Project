{
 "cells": [
  {
   "cell_type": "code",
   "execution_count": 18,
   "metadata": {},
   "outputs": [],
   "source": [
    "import pandas as pd\n",
    "import numpy as np\n",
    "\n",
    "import os\n",
    "\n",
    "import matplotlib.pyplot as plt\n",
    "%matplotlib inline"
   ]
  },
  {
   "cell_type": "code",
   "execution_count": 2,
   "metadata": {},
   "outputs": [
    {
     "data": {
      "text/plain": [
       "['.ipynb_checkpoints',\n",
       " '.vscode',\n",
       " 'input',\n",
       " 'Minor_class_augmentation.ipynb',\n",
       " 'output',\n",
       " 'Result_checking-15_v1.ipynb',\n",
       " 'Result_checking.ipynb',\n",
       " 'RoBERTa_test.ipynb',\n",
       " 'saved_model',\n",
       " 'src']"
      ]
     },
     "execution_count": 2,
     "metadata": {},
     "output_type": "execute_result"
    }
   ],
   "source": [
    "os.listdir()"
   ]
  },
  {
   "cell_type": "code",
   "execution_count": 3,
   "metadata": {},
   "outputs": [
    {
     "data": {
      "text/plain": [
       "['bert-base-uncased',\n",
       " 'data_labeled_clean.csv',\n",
       " 'roberta-base',\n",
       " 'test.csv',\n",
       " 'train.csv',\n",
       " 'train_folds.csv']"
      ]
     },
     "execution_count": 3,
     "metadata": {},
     "output_type": "execute_result"
    }
   ],
   "source": [
    "os.listdir('./input')"
   ]
  },
  {
   "cell_type": "code",
   "execution_count": 4,
   "metadata": {},
   "outputs": [],
   "source": [
    "data_path = './input'"
   ]
  },
  {
   "cell_type": "code",
   "execution_count": 5,
   "metadata": {},
   "outputs": [],
   "source": [
    "data_train = pd.read_csv(data_path + '/train.csv')"
   ]
  },
  {
   "cell_type": "code",
   "execution_count": 6,
   "metadata": {},
   "outputs": [
    {
     "data": {
      "text/plain": [
       "(5241, 8)"
      ]
     },
     "execution_count": 6,
     "metadata": {},
     "output_type": "execute_result"
    }
   ],
   "source": [
    "data_train.shape"
   ]
  },
  {
   "cell_type": "code",
   "execution_count": 7,
   "metadata": {},
   "outputs": [],
   "source": [
    "data_train_copy = data_train.copy()"
   ]
  },
  {
   "cell_type": "code",
   "execution_count": 8,
   "metadata": {},
   "outputs": [
    {
     "data": {
      "text/html": [
       "<div>\n",
       "<style scoped>\n",
       "    .dataframe tbody tr th:only-of-type {\n",
       "        vertical-align: middle;\n",
       "    }\n",
       "\n",
       "    .dataframe tbody tr th {\n",
       "        vertical-align: top;\n",
       "    }\n",
       "\n",
       "    .dataframe thead th {\n",
       "        text-align: right;\n",
       "    }\n",
       "</style>\n",
       "<table border=\"1\" class=\"dataframe\">\n",
       "  <thead>\n",
       "    <tr style=\"text-align: right;\">\n",
       "      <th></th>\n",
       "      <th>Unnamed: 0</th>\n",
       "      <th>Participant ID</th>\n",
       "      <th>Question ID</th>\n",
       "      <th>Comment</th>\n",
       "      <th>Label</th>\n",
       "      <th>Sentiment</th>\n",
       "      <th>Label_encoded</th>\n",
       "      <th>Sentiment_encoded</th>\n",
       "    </tr>\n",
       "  </thead>\n",
       "  <tbody>\n",
       "    <tr>\n",
       "      <th>0</th>\n",
       "      <td>5505</td>\n",
       "      <td>71714</td>\n",
       "      <td>One Change</td>\n",
       "      <td>I know that change is the only thing in this w...</td>\n",
       "      <td>No answer/Nothing</td>\n",
       "      <td>No answer/Nothing</td>\n",
       "      <td>10</td>\n",
       "      <td>1</td>\n",
       "    </tr>\n",
       "    <tr>\n",
       "      <th>1</th>\n",
       "      <td>6121</td>\n",
       "      <td>91791</td>\n",
       "      <td>One Change</td>\n",
       "      <td>None</td>\n",
       "      <td>No answer/Nothing</td>\n",
       "      <td>No answer/Nothing</td>\n",
       "      <td>10</td>\n",
       "      <td>1</td>\n",
       "    </tr>\n",
       "    <tr>\n",
       "      <th>2</th>\n",
       "      <td>3134</td>\n",
       "      <td>56411</td>\n",
       "      <td>Unique / Unusual</td>\n",
       "      <td>My coworkers and the residents feel like famil...</td>\n",
       "      <td>Inspiring Work/Place; Quality</td>\n",
       "      <td>Positive</td>\n",
       "      <td>7</td>\n",
       "      <td>2</td>\n",
       "    </tr>\n",
       "    <tr>\n",
       "      <th>3</th>\n",
       "      <td>6018</td>\n",
       "      <td>87371</td>\n",
       "      <td>Unique / Unusual</td>\n",
       "      <td>None</td>\n",
       "      <td>No answer/Nothing</td>\n",
       "      <td>No answer/Nothing</td>\n",
       "      <td>10</td>\n",
       "      <td>1</td>\n",
       "    </tr>\n",
       "    <tr>\n",
       "      <th>4</th>\n",
       "      <td>107</td>\n",
       "      <td>75623</td>\n",
       "      <td>One Change</td>\n",
       "      <td>More staff appreciation and bonuses/gifts</td>\n",
       "      <td>Appreciation/Recognition</td>\n",
       "      <td>Negative</td>\n",
       "      <td>0</td>\n",
       "      <td>0</td>\n",
       "    </tr>\n",
       "  </tbody>\n",
       "</table>\n",
       "</div>"
      ],
      "text/plain": [
       "   Unnamed: 0  Participant ID       Question ID  \\\n",
       "0        5505           71714        One Change   \n",
       "1        6121           91791        One Change   \n",
       "2        3134           56411  Unique / Unusual   \n",
       "3        6018           87371  Unique / Unusual   \n",
       "4         107           75623        One Change   \n",
       "\n",
       "                                             Comment  \\\n",
       "0  I know that change is the only thing in this w...   \n",
       "1                                               None   \n",
       "2  My coworkers and the residents feel like famil...   \n",
       "3                                               None   \n",
       "4         More staff appreciation and bonuses/gifts    \n",
       "\n",
       "                           Label          Sentiment  Label_encoded  \\\n",
       "0              No answer/Nothing  No answer/Nothing             10   \n",
       "1              No answer/Nothing  No answer/Nothing             10   \n",
       "2  Inspiring Work/Place; Quality           Positive              7   \n",
       "3              No answer/Nothing  No answer/Nothing             10   \n",
       "4       Appreciation/Recognition           Negative              0   \n",
       "\n",
       "   Sentiment_encoded  \n",
       "0                  1  \n",
       "1                  1  \n",
       "2                  2  \n",
       "3                  1  \n",
       "4                  0  "
      ]
     },
     "execution_count": 8,
     "metadata": {},
     "output_type": "execute_result"
    }
   ],
   "source": [
    "data_train.head()"
   ]
  },
  {
   "cell_type": "code",
   "execution_count": 9,
   "metadata": {},
   "outputs": [
    {
     "data": {
      "text/plain": [
       "<matplotlib.axes._subplots.AxesSubplot at 0x17eae04e5f8>"
      ]
     },
     "execution_count": 9,
     "metadata": {},
     "output_type": "execute_result"
    },
    {
     "data": {
      "image/png": "[encoded data removed]",
      "text/plain": [
       "<Figure size 432x288 with 1 Axes>"
      ]
     },
     "metadata": {
      "needs_background": "light"
     },
     "output_type": "display_data"
    }
   ],
   "source": [
    "data_train.groupby(['Label_encoded']).size().plot(kind='barh')"
   ]
  },
  {
   "cell_type": "code",
   "execution_count": 10,
   "metadata": {},
   "outputs": [
    {
     "data": {
      "text/plain": [
       "<matplotlib.axes._subplots.AxesSubplot at 0x17eae8ae828>"
      ]
     },
     "execution_count": 10,
     "metadata": {},
     "output_type": "execute_result"
    },
    {
     "data": {
      "image/png": "[encoded data removed]",
      "text/plain": [
       "<Figure size 432x288 with 1 Axes>"
      ]
     },
     "metadata": {
      "needs_background": "light"
     },
     "output_type": "display_data"
    }
   ],
   "source": [
    "data_train.groupby(['Label_encoded']).size().sort_values(ascending=True).plot(kind='barh')"
   ]
  },
  {
   "cell_type": "code",
   "execution_count": 15,
   "metadata": {},
   "outputs": [
    {
     "data": {
      "text/plain": [
       "Label_encoded\n",
       "5      22\n",
       "11     40\n",
       "1      73\n",
       "13     85\n",
       "8     114\n",
       "0     154\n",
       "2     262\n",
       "12    280\n",
       "4     364\n",
       "6     664\n",
       "3     743\n",
       "9     746\n",
       "7     807\n",
       "10    887\n",
       "dtype: int64"
      ]
     },
     "execution_count": 15,
     "metadata": {},
     "output_type": "execute_result"
    }
   ],
   "source": [
    "data_train.groupby(['Label_encoded']).size().sort_values(ascending=True)"
   ]
  },
  {
   "cell_type": "code",
   "execution_count": 16,
   "metadata": {},
   "outputs": [
    {
     "data": {
      "text/plain": [
       "22"
      ]
     },
     "execution_count": 16,
     "metadata": {},
     "output_type": "execute_result"
    }
   ],
   "source": [
    "data_train.groupby(['Label_encoded']).size()[5]"
   ]
  },
  {
   "cell_type": "code",
   "execution_count": 17,
   "metadata": {},
   "outputs": [
    {
     "data": {
      "text/html": [
       "<div>\n",
       "<style scoped>\n",
       "    .dataframe tbody tr th:only-of-type {\n",
       "        vertical-align: middle;\n",
       "    }\n",
       "\n",
       "    .dataframe tbody tr th {\n",
       "        vertical-align: top;\n",
       "    }\n",
       "\n",
       "    .dataframe thead th {\n",
       "        text-align: right;\n",
       "    }\n",
       "</style>\n",
       "<table border=\"1\" class=\"dataframe\">\n",
       "  <thead>\n",
       "    <tr style=\"text-align: right;\">\n",
       "      <th></th>\n",
       "      <th>Unnamed: 0</th>\n",
       "      <th>Participant ID</th>\n",
       "      <th>Question ID</th>\n",
       "      <th>Comment</th>\n",
       "      <th>Label</th>\n",
       "      <th>Sentiment</th>\n",
       "      <th>Label_encoded</th>\n",
       "      <th>Sentiment_encoded</th>\n",
       "    </tr>\n",
       "  </thead>\n",
       "  <tbody>\n",
       "    <tr>\n",
       "      <th>518</th>\n",
       "      <td>2186</td>\n",
       "      <td>92068</td>\n",
       "      <td>Unique / Unusual</td>\n",
       "      <td>No apparent systemic discrimination against ra...</td>\n",
       "      <td>Employee relations</td>\n",
       "      <td>Positive</td>\n",
       "      <td>5</td>\n",
       "      <td>2</td>\n",
       "    </tr>\n",
       "    <tr>\n",
       "      <th>650</th>\n",
       "      <td>2164</td>\n",
       "      <td>57603</td>\n",
       "      <td>One Change</td>\n",
       "      <td>less drama more team work</td>\n",
       "      <td>Employee relations</td>\n",
       "      <td>Negative</td>\n",
       "      <td>5</td>\n",
       "      <td>0</td>\n",
       "    </tr>\n",
       "    <tr>\n",
       "      <th>780</th>\n",
       "      <td>2188</td>\n",
       "      <td>92209</td>\n",
       "      <td>One Change</td>\n",
       "      <td>having better judgement by treating everyone e...</td>\n",
       "      <td>Employee relations</td>\n",
       "      <td>Negative</td>\n",
       "      <td>5</td>\n",
       "      <td>0</td>\n",
       "    </tr>\n",
       "    <tr>\n",
       "      <th>818</th>\n",
       "      <td>2171</td>\n",
       "      <td>74842</td>\n",
       "      <td>One Change</td>\n",
       "      <td>Team work, less gossiping! &amp; NO more noro viru...</td>\n",
       "      <td>Employee relations</td>\n",
       "      <td>Negative</td>\n",
       "      <td>5</td>\n",
       "      <td>0</td>\n",
       "    </tr>\n",
       "    <tr>\n",
       "      <th>1238</th>\n",
       "      <td>2177</td>\n",
       "      <td>79577</td>\n",
       "      <td>Unique / Unusual</td>\n",
       "      <td>ethical, honest and open communication</td>\n",
       "      <td>Employee relations</td>\n",
       "      <td>Positive</td>\n",
       "      <td>5</td>\n",
       "      <td>2</td>\n",
       "    </tr>\n",
       "    <tr>\n",
       "      <th>1813</th>\n",
       "      <td>2187</td>\n",
       "      <td>92190</td>\n",
       "      <td>Unique / Unusual</td>\n",
       "      <td>Truly supports LGBTQ + outreach</td>\n",
       "      <td>Employee relations</td>\n",
       "      <td>Positive</td>\n",
       "      <td>5</td>\n",
       "      <td>2</td>\n",
       "    </tr>\n",
       "    <tr>\n",
       "      <th>1878</th>\n",
       "      <td>2173</td>\n",
       "      <td>75184</td>\n",
       "      <td>Unique / Unusual</td>\n",
       "      <td>Does not discriminat age.</td>\n",
       "      <td>Employee relations</td>\n",
       "      <td>Positive</td>\n",
       "      <td>5</td>\n",
       "      <td>2</td>\n",
       "    </tr>\n",
       "    <tr>\n",
       "      <th>2070</th>\n",
       "      <td>2175</td>\n",
       "      <td>76161</td>\n",
       "      <td>One Change</td>\n",
       "      <td>The way that they treat new hires favoritism f...</td>\n",
       "      <td>Employee relations</td>\n",
       "      <td>Negative</td>\n",
       "      <td>5</td>\n",
       "      <td>0</td>\n",
       "    </tr>\n",
       "    <tr>\n",
       "      <th>2548</th>\n",
       "      <td>2172</td>\n",
       "      <td>74904</td>\n",
       "      <td>One Change</td>\n",
       "      <td>Fire all of the shitty as fuck managers that p...</td>\n",
       "      <td>Employee relations</td>\n",
       "      <td>Negative</td>\n",
       "      <td>5</td>\n",
       "      <td>0</td>\n",
       "    </tr>\n",
       "    <tr>\n",
       "      <th>2606</th>\n",
       "      <td>2180</td>\n",
       "      <td>79885</td>\n",
       "      <td>One Change</td>\n",
       "      <td>No back biting and speaking about others in th...</td>\n",
       "      <td>Employee relations</td>\n",
       "      <td>Negative</td>\n",
       "      <td>5</td>\n",
       "      <td>0</td>\n",
       "    </tr>\n",
       "    <tr>\n",
       "      <th>2623</th>\n",
       "      <td>2160</td>\n",
       "      <td>56649</td>\n",
       "      <td>One Change</td>\n",
       "      <td>Stop the rumors &amp; gossip being passed to other...</td>\n",
       "      <td>Employee relations</td>\n",
       "      <td>Negative</td>\n",
       "      <td>5</td>\n",
       "      <td>0</td>\n",
       "    </tr>\n",
       "    <tr>\n",
       "      <th>3333</th>\n",
       "      <td>2170</td>\n",
       "      <td>74725</td>\n",
       "      <td>One Change</td>\n",
       "      <td>That everyone is treated fairly stop discrimin...</td>\n",
       "      <td>Employee relations</td>\n",
       "      <td>Negative</td>\n",
       "      <td>5</td>\n",
       "      <td>0</td>\n",
       "    </tr>\n",
       "    <tr>\n",
       "      <th>3529</th>\n",
       "      <td>2163</td>\n",
       "      <td>57477</td>\n",
       "      <td>One Change</td>\n",
       "      <td>tell mangers when they know things not to spre...</td>\n",
       "      <td>Employee relations</td>\n",
       "      <td>Negative</td>\n",
       "      <td>5</td>\n",
       "      <td>0</td>\n",
       "    </tr>\n",
       "    <tr>\n",
       "      <th>3805</th>\n",
       "      <td>2176</td>\n",
       "      <td>76379</td>\n",
       "      <td>One Change</td>\n",
       "      <td>No hostile environment</td>\n",
       "      <td>Employee relations</td>\n",
       "      <td>Negative</td>\n",
       "      <td>5</td>\n",
       "      <td>0</td>\n",
       "    </tr>\n",
       "    <tr>\n",
       "      <th>3900</th>\n",
       "      <td>2162</td>\n",
       "      <td>57392</td>\n",
       "      <td>Unique / Unusual</td>\n",
       "      <td>el respeto a las personas  es impresionante no...</td>\n",
       "      <td>Employee relations</td>\n",
       "      <td>Positive</td>\n",
       "      <td>5</td>\n",
       "      <td>2</td>\n",
       "    </tr>\n",
       "    <tr>\n",
       "      <th>4010</th>\n",
       "      <td>2189</td>\n",
       "      <td>92212</td>\n",
       "      <td>Unique / Unusual</td>\n",
       "      <td>Everyone is so nice!</td>\n",
       "      <td>Employee relations</td>\n",
       "      <td>Positive</td>\n",
       "      <td>5</td>\n",
       "      <td>2</td>\n",
       "    </tr>\n",
       "    <tr>\n",
       "      <th>4077</th>\n",
       "      <td>2193</td>\n",
       "      <td>93175</td>\n",
       "      <td>One Change</td>\n",
       "      <td>It is hard for me to say this, but being a guy...</td>\n",
       "      <td>Employee relations</td>\n",
       "      <td>Negative</td>\n",
       "      <td>5</td>\n",
       "      <td>0</td>\n",
       "    </tr>\n",
       "    <tr>\n",
       "      <th>4080</th>\n",
       "      <td>2191</td>\n",
       "      <td>92837</td>\n",
       "      <td>One Change</td>\n",
       "      <td>People should look beyond skin color.</td>\n",
       "      <td>Employee relations</td>\n",
       "      <td>Negative</td>\n",
       "      <td>5</td>\n",
       "      <td>0</td>\n",
       "    </tr>\n",
       "    <tr>\n",
       "      <th>4216</th>\n",
       "      <td>2159</td>\n",
       "      <td>56584</td>\n",
       "      <td>One Change</td>\n",
       "      <td>Less drama and talking about fellow co-workers.</td>\n",
       "      <td>Employee relations</td>\n",
       "      <td>Negative</td>\n",
       "      <td>5</td>\n",
       "      <td>0</td>\n",
       "    </tr>\n",
       "    <tr>\n",
       "      <th>4324</th>\n",
       "      <td>2181</td>\n",
       "      <td>80461</td>\n",
       "      <td>One Change</td>\n",
       "      <td>remove all the white supremacy and Mormon mafi...</td>\n",
       "      <td>Employee relations</td>\n",
       "      <td>Negative</td>\n",
       "      <td>5</td>\n",
       "      <td>0</td>\n",
       "    </tr>\n",
       "    <tr>\n",
       "      <th>4360</th>\n",
       "      <td>2166</td>\n",
       "      <td>58455</td>\n",
       "      <td>One Change</td>\n",
       "      <td>employee drama</td>\n",
       "      <td>Employee relations</td>\n",
       "      <td>Negative</td>\n",
       "      <td>5</td>\n",
       "      <td>0</td>\n",
       "    </tr>\n",
       "    <tr>\n",
       "      <th>5002</th>\n",
       "      <td>2161</td>\n",
       "      <td>56989</td>\n",
       "      <td>One Change</td>\n",
       "      <td>The co-worker politics sometimes can distract ...</td>\n",
       "      <td>Employee relations</td>\n",
       "      <td>Negative</td>\n",
       "      <td>5</td>\n",
       "      <td>0</td>\n",
       "    </tr>\n",
       "  </tbody>\n",
       "</table>\n",
       "</div>"
      ],
      "text/plain": [
       "      Unnamed: 0  Participant ID       Question ID  \\\n",
       "518         2186           92068  Unique / Unusual   \n",
       "650         2164           57603        One Change   \n",
       "780         2188           92209        One Change   \n",
       "818         2171           74842        One Change   \n",
       "1238        2177           79577  Unique / Unusual   \n",
       "1813        2187           92190  Unique / Unusual   \n",
       "1878        2173           75184  Unique / Unusual   \n",
       "2070        2175           76161        One Change   \n",
       "2548        2172           74904        One Change   \n",
       "2606        2180           79885        One Change   \n",
       "2623        2160           56649        One Change   \n",
       "3333        2170           74725        One Change   \n",
       "3529        2163           57477        One Change   \n",
       "3805        2176           76379        One Change   \n",
       "3900        2162           57392  Unique / Unusual   \n",
       "4010        2189           92212  Unique / Unusual   \n",
       "4077        2193           93175        One Change   \n",
       "4080        2191           92837        One Change   \n",
       "4216        2159           56584        One Change   \n",
       "4324        2181           80461        One Change   \n",
       "4360        2166           58455        One Change   \n",
       "5002        2161           56989        One Change   \n",
       "\n",
       "                                                Comment               Label  \\\n",
       "518   No apparent systemic discrimination against ra...  Employee relations   \n",
       "650                           less drama more team work  Employee relations   \n",
       "780   having better judgement by treating everyone e...  Employee relations   \n",
       "818   Team work, less gossiping! & NO more noro viru...  Employee relations   \n",
       "1238             ethical, honest and open communication  Employee relations   \n",
       "1813                   Truly supports LGBTQ + outreach   Employee relations   \n",
       "1878                          Does not discriminat age.  Employee relations   \n",
       "2070  The way that they treat new hires favoritism f...  Employee relations   \n",
       "2548  Fire all of the shitty as fuck managers that p...  Employee relations   \n",
       "2606  No back biting and speaking about others in th...  Employee relations   \n",
       "2623  Stop the rumors & gossip being passed to other...  Employee relations   \n",
       "3333  That everyone is treated fairly stop discrimin...  Employee relations   \n",
       "3529  tell mangers when they know things not to spre...  Employee relations   \n",
       "3805                             No hostile environment  Employee relations   \n",
       "3900  el respeto a las personas  es impresionante no...  Employee relations   \n",
       "4010                               Everyone is so nice!  Employee relations   \n",
       "4077  It is hard for me to say this, but being a guy...  Employee relations   \n",
       "4080              People should look beyond skin color.  Employee relations   \n",
       "4216  Less drama and talking about fellow co-workers.    Employee relations   \n",
       "4324  remove all the white supremacy and Mormon mafi...  Employee relations   \n",
       "4360                                     employee drama  Employee relations   \n",
       "5002  The co-worker politics sometimes can distract ...  Employee relations   \n",
       "\n",
       "     Sentiment  Label_encoded  Sentiment_encoded  \n",
       "518   Positive              5                  2  \n",
       "650   Negative              5                  0  \n",
       "780   Negative              5                  0  \n",
       "818   Negative              5                  0  \n",
       "1238  Positive              5                  2  \n",
       "1813  Positive              5                  2  \n",
       "1878  Positive              5                  2  \n",
       "2070  Negative              5                  0  \n",
       "2548  Negative              5                  0  \n",
       "2606  Negative              5                  0  \n",
       "2623  Negative              5                  0  \n",
       "3333  Negative              5                  0  \n",
       "3529  Negative              5                  0  \n",
       "3805  Negative              5                  0  \n",
       "3900  Positive              5                  2  \n",
       "4010  Positive              5                  2  \n",
       "4077  Negative              5                  0  \n",
       "4080  Negative              5                  0  \n",
       "4216  Negative              5                  0  \n",
       "4324  Negative              5                  0  \n",
       "4360  Negative              5                  0  \n",
       "5002  Negative              5                  0  "
      ]
     },
     "execution_count": 17,
     "metadata": {},
     "output_type": "execute_result"
    }
   ],
   "source": [
    "data_train[data_train['Label_encoded'] == 5]"
   ]
  },
  {
   "cell_type": "code",
   "execution_count": 18,
   "metadata": {},
   "outputs": [],
   "source": [
    "data_groupK = data_train[data_train['Label_encoded'] == 5].copy()"
   ]
  },
  {
   "cell_type": "code",
   "execution_count": 19,
   "metadata": {},
   "outputs": [
    {
     "data": {
      "text/html": [
       "<div>\n",
       "<style scoped>\n",
       "    .dataframe tbody tr th:only-of-type {\n",
       "        vertical-align: middle;\n",
       "    }\n",
       "\n",
       "    .dataframe tbody tr th {\n",
       "        vertical-align: top;\n",
       "    }\n",
       "\n",
       "    .dataframe thead th {\n",
       "        text-align: right;\n",
       "    }\n",
       "</style>\n",
       "<table border=\"1\" class=\"dataframe\">\n",
       "  <thead>\n",
       "    <tr style=\"text-align: right;\">\n",
       "      <th></th>\n",
       "      <th>Unnamed: 0</th>\n",
       "      <th>Participant ID</th>\n",
       "      <th>Question ID</th>\n",
       "      <th>Comment</th>\n",
       "      <th>Label</th>\n",
       "      <th>Sentiment</th>\n",
       "      <th>Label_encoded</th>\n",
       "      <th>Sentiment_encoded</th>\n",
       "    </tr>\n",
       "  </thead>\n",
       "  <tbody>\n",
       "    <tr>\n",
       "      <th>518</th>\n",
       "      <td>2186</td>\n",
       "      <td>92068</td>\n",
       "      <td>Unique / Unusual</td>\n",
       "      <td>No apparent systemic discrimination against ra...</td>\n",
       "      <td>Employee relations</td>\n",
       "      <td>Positive</td>\n",
       "      <td>5</td>\n",
       "      <td>2</td>\n",
       "    </tr>\n",
       "    <tr>\n",
       "      <th>650</th>\n",
       "      <td>2164</td>\n",
       "      <td>57603</td>\n",
       "      <td>One Change</td>\n",
       "      <td>less drama more team work</td>\n",
       "      <td>Employee relations</td>\n",
       "      <td>Negative</td>\n",
       "      <td>5</td>\n",
       "      <td>0</td>\n",
       "    </tr>\n",
       "    <tr>\n",
       "      <th>780</th>\n",
       "      <td>2188</td>\n",
       "      <td>92209</td>\n",
       "      <td>One Change</td>\n",
       "      <td>having better judgement by treating everyone e...</td>\n",
       "      <td>Employee relations</td>\n",
       "      <td>Negative</td>\n",
       "      <td>5</td>\n",
       "      <td>0</td>\n",
       "    </tr>\n",
       "    <tr>\n",
       "      <th>818</th>\n",
       "      <td>2171</td>\n",
       "      <td>74842</td>\n",
       "      <td>One Change</td>\n",
       "      <td>Team work, less gossiping! &amp; NO more noro viru...</td>\n",
       "      <td>Employee relations</td>\n",
       "      <td>Negative</td>\n",
       "      <td>5</td>\n",
       "      <td>0</td>\n",
       "    </tr>\n",
       "    <tr>\n",
       "      <th>1238</th>\n",
       "      <td>2177</td>\n",
       "      <td>79577</td>\n",
       "      <td>Unique / Unusual</td>\n",
       "      <td>ethical, honest and open communication</td>\n",
       "      <td>Employee relations</td>\n",
       "      <td>Positive</td>\n",
       "      <td>5</td>\n",
       "      <td>2</td>\n",
       "    </tr>\n",
       "    <tr>\n",
       "      <th>1813</th>\n",
       "      <td>2187</td>\n",
       "      <td>92190</td>\n",
       "      <td>Unique / Unusual</td>\n",
       "      <td>Truly supports LGBTQ + outreach</td>\n",
       "      <td>Employee relations</td>\n",
       "      <td>Positive</td>\n",
       "      <td>5</td>\n",
       "      <td>2</td>\n",
       "    </tr>\n",
       "    <tr>\n",
       "      <th>1878</th>\n",
       "      <td>2173</td>\n",
       "      <td>75184</td>\n",
       "      <td>Unique / Unusual</td>\n",
       "      <td>Does not discriminat age.</td>\n",
       "      <td>Employee relations</td>\n",
       "      <td>Positive</td>\n",
       "      <td>5</td>\n",
       "      <td>2</td>\n",
       "    </tr>\n",
       "    <tr>\n",
       "      <th>2070</th>\n",
       "      <td>2175</td>\n",
       "      <td>76161</td>\n",
       "      <td>One Change</td>\n",
       "      <td>The way that they treat new hires favoritism f...</td>\n",
       "      <td>Employee relations</td>\n",
       "      <td>Negative</td>\n",
       "      <td>5</td>\n",
       "      <td>0</td>\n",
       "    </tr>\n",
       "    <tr>\n",
       "      <th>2548</th>\n",
       "      <td>2172</td>\n",
       "      <td>74904</td>\n",
       "      <td>One Change</td>\n",
       "      <td>Fire all of the shitty as fuck managers that p...</td>\n",
       "      <td>Employee relations</td>\n",
       "      <td>Negative</td>\n",
       "      <td>5</td>\n",
       "      <td>0</td>\n",
       "    </tr>\n",
       "    <tr>\n",
       "      <th>2606</th>\n",
       "      <td>2180</td>\n",
       "      <td>79885</td>\n",
       "      <td>One Change</td>\n",
       "      <td>No back biting and speaking about others in th...</td>\n",
       "      <td>Employee relations</td>\n",
       "      <td>Negative</td>\n",
       "      <td>5</td>\n",
       "      <td>0</td>\n",
       "    </tr>\n",
       "    <tr>\n",
       "      <th>2623</th>\n",
       "      <td>2160</td>\n",
       "      <td>56649</td>\n",
       "      <td>One Change</td>\n",
       "      <td>Stop the rumors &amp; gossip being passed to other...</td>\n",
       "      <td>Employee relations</td>\n",
       "      <td>Negative</td>\n",
       "      <td>5</td>\n",
       "      <td>0</td>\n",
       "    </tr>\n",
       "    <tr>\n",
       "      <th>3333</th>\n",
       "      <td>2170</td>\n",
       "      <td>74725</td>\n",
       "      <td>One Change</td>\n",
       "      <td>That everyone is treated fairly stop discrimin...</td>\n",
       "      <td>Employee relations</td>\n",
       "      <td>Negative</td>\n",
       "      <td>5</td>\n",
       "      <td>0</td>\n",
       "    </tr>\n",
       "    <tr>\n",
       "      <th>3529</th>\n",
       "      <td>2163</td>\n",
       "      <td>57477</td>\n",
       "      <td>One Change</td>\n",
       "      <td>tell mangers when they know things not to spre...</td>\n",
       "      <td>Employee relations</td>\n",
       "      <td>Negative</td>\n",
       "      <td>5</td>\n",
       "      <td>0</td>\n",
       "    </tr>\n",
       "    <tr>\n",
       "      <th>3805</th>\n",
       "      <td>2176</td>\n",
       "      <td>76379</td>\n",
       "      <td>One Change</td>\n",
       "      <td>No hostile environment</td>\n",
       "      <td>Employee relations</td>\n",
       "      <td>Negative</td>\n",
       "      <td>5</td>\n",
       "      <td>0</td>\n",
       "    </tr>\n",
       "    <tr>\n",
       "      <th>3900</th>\n",
       "      <td>2162</td>\n",
       "      <td>57392</td>\n",
       "      <td>Unique / Unusual</td>\n",
       "      <td>el respeto a las personas  es impresionante no...</td>\n",
       "      <td>Employee relations</td>\n",
       "      <td>Positive</td>\n",
       "      <td>5</td>\n",
       "      <td>2</td>\n",
       "    </tr>\n",
       "    <tr>\n",
       "      <th>4010</th>\n",
       "      <td>2189</td>\n",
       "      <td>92212</td>\n",
       "      <td>Unique / Unusual</td>\n",
       "      <td>Everyone is so nice!</td>\n",
       "      <td>Employee relations</td>\n",
       "      <td>Positive</td>\n",
       "      <td>5</td>\n",
       "      <td>2</td>\n",
       "    </tr>\n",
       "    <tr>\n",
       "      <th>4077</th>\n",
       "      <td>2193</td>\n",
       "      <td>93175</td>\n",
       "      <td>One Change</td>\n",
       "      <td>It is hard for me to say this, but being a guy...</td>\n",
       "      <td>Employee relations</td>\n",
       "      <td>Negative</td>\n",
       "      <td>5</td>\n",
       "      <td>0</td>\n",
       "    </tr>\n",
       "    <tr>\n",
       "      <th>4080</th>\n",
       "      <td>2191</td>\n",
       "      <td>92837</td>\n",
       "      <td>One Change</td>\n",
       "      <td>People should look beyond skin color.</td>\n",
       "      <td>Employee relations</td>\n",
       "      <td>Negative</td>\n",
       "      <td>5</td>\n",
       "      <td>0</td>\n",
       "    </tr>\n",
       "    <tr>\n",
       "      <th>4216</th>\n",
       "      <td>2159</td>\n",
       "      <td>56584</td>\n",
       "      <td>One Change</td>\n",
       "      <td>Less drama and talking about fellow co-workers.</td>\n",
       "      <td>Employee relations</td>\n",
       "      <td>Negative</td>\n",
       "      <td>5</td>\n",
       "      <td>0</td>\n",
       "    </tr>\n",
       "    <tr>\n",
       "      <th>4324</th>\n",
       "      <td>2181</td>\n",
       "      <td>80461</td>\n",
       "      <td>One Change</td>\n",
       "      <td>remove all the white supremacy and Mormon mafi...</td>\n",
       "      <td>Employee relations</td>\n",
       "      <td>Negative</td>\n",
       "      <td>5</td>\n",
       "      <td>0</td>\n",
       "    </tr>\n",
       "    <tr>\n",
       "      <th>4360</th>\n",
       "      <td>2166</td>\n",
       "      <td>58455</td>\n",
       "      <td>One Change</td>\n",
       "      <td>employee drama</td>\n",
       "      <td>Employee relations</td>\n",
       "      <td>Negative</td>\n",
       "      <td>5</td>\n",
       "      <td>0</td>\n",
       "    </tr>\n",
       "    <tr>\n",
       "      <th>5002</th>\n",
       "      <td>2161</td>\n",
       "      <td>56989</td>\n",
       "      <td>One Change</td>\n",
       "      <td>The co-worker politics sometimes can distract ...</td>\n",
       "      <td>Employee relations</td>\n",
       "      <td>Negative</td>\n",
       "      <td>5</td>\n",
       "      <td>0</td>\n",
       "    </tr>\n",
       "  </tbody>\n",
       "</table>\n",
       "</div>"
      ],
      "text/plain": [
       "      Unnamed: 0  Participant ID       Question ID  \\\n",
       "518         2186           92068  Unique / Unusual   \n",
       "650         2164           57603        One Change   \n",
       "780         2188           92209        One Change   \n",
       "818         2171           74842        One Change   \n",
       "1238        2177           79577  Unique / Unusual   \n",
       "1813        2187           92190  Unique / Unusual   \n",
       "1878        2173           75184  Unique / Unusual   \n",
       "2070        2175           76161        One Change   \n",
       "2548        2172           74904        One Change   \n",
       "2606        2180           79885        One Change   \n",
       "2623        2160           56649        One Change   \n",
       "3333        2170           74725        One Change   \n",
       "3529        2163           57477        One Change   \n",
       "3805        2176           76379        One Change   \n",
       "3900        2162           57392  Unique / Unusual   \n",
       "4010        2189           92212  Unique / Unusual   \n",
       "4077        2193           93175        One Change   \n",
       "4080        2191           92837        One Change   \n",
       "4216        2159           56584        One Change   \n",
       "4324        2181           80461        One Change   \n",
       "4360        2166           58455        One Change   \n",
       "5002        2161           56989        One Change   \n",
       "\n",
       "                                                Comment               Label  \\\n",
       "518   No apparent systemic discrimination against ra...  Employee relations   \n",
       "650                           less drama more team work  Employee relations   \n",
       "780   having better judgement by treating everyone e...  Employee relations   \n",
       "818   Team work, less gossiping! & NO more noro viru...  Employee relations   \n",
       "1238             ethical, honest and open communication  Employee relations   \n",
       "1813                   Truly supports LGBTQ + outreach   Employee relations   \n",
       "1878                          Does not discriminat age.  Employee relations   \n",
       "2070  The way that they treat new hires favoritism f...  Employee relations   \n",
       "2548  Fire all of the shitty as fuck managers that p...  Employee relations   \n",
       "2606  No back biting and speaking about others in th...  Employee relations   \n",
       "2623  Stop the rumors & gossip being passed to other...  Employee relations   \n",
       "3333  That everyone is treated fairly stop discrimin...  Employee relations   \n",
       "3529  tell mangers when they know things not to spre...  Employee relations   \n",
       "3805                             No hostile environment  Employee relations   \n",
       "3900  el respeto a las personas  es impresionante no...  Employee relations   \n",
       "4010                               Everyone is so nice!  Employee relations   \n",
       "4077  It is hard for me to say this, but being a guy...  Employee relations   \n",
       "4080              People should look beyond skin color.  Employee relations   \n",
       "4216  Less drama and talking about fellow co-workers.    Employee relations   \n",
       "4324  remove all the white supremacy and Mormon mafi...  Employee relations   \n",
       "4360                                     employee drama  Employee relations   \n",
       "5002  The co-worker politics sometimes can distract ...  Employee relations   \n",
       "\n",
       "     Sentiment  Label_encoded  Sentiment_encoded  \n",
       "518   Positive              5                  2  \n",
       "650   Negative              5                  0  \n",
       "780   Negative              5                  0  \n",
       "818   Negative              5                  0  \n",
       "1238  Positive              5                  2  \n",
       "1813  Positive              5                  2  \n",
       "1878  Positive              5                  2  \n",
       "2070  Negative              5                  0  \n",
       "2548  Negative              5                  0  \n",
       "2606  Negative              5                  0  \n",
       "2623  Negative              5                  0  \n",
       "3333  Negative              5                  0  \n",
       "3529  Negative              5                  0  \n",
       "3805  Negative              5                  0  \n",
       "3900  Positive              5                  2  \n",
       "4010  Positive              5                  2  \n",
       "4077  Negative              5                  0  \n",
       "4080  Negative              5                  0  \n",
       "4216  Negative              5                  0  \n",
       "4324  Negative              5                  0  \n",
       "4360  Negative              5                  0  \n",
       "5002  Negative              5                  0  "
      ]
     },
     "execution_count": 19,
     "metadata": {},
     "output_type": "execute_result"
    }
   ],
   "source": [
    "data_groupK"
   ]
  },
  {
   "cell_type": "code",
   "execution_count": 24,
   "metadata": {
    "scrolled": true
   },
   "outputs": [
    {
     "data": {
      "text/plain": [
       "(15, 8)"
      ]
     },
     "execution_count": 24,
     "metadata": {},
     "output_type": "execute_result"
    }
   ],
   "source": [
    "data_groupK.shape"
   ]
  },
  {
   "cell_type": "code",
   "execution_count": 25,
   "metadata": {},
   "outputs": [
    {
     "data": {
      "text/plain": [
       "\"It can be a fun place to work you can sing with the residents and get to know them  Unique because it ' s close to\\n\\nUnique because it's close to my house.\""
      ]
     },
     "execution_count": 25,
     "metadata": {},
     "output_type": "execute_result"
    }
   ],
   "source": [
    "data_groupK_copy = data_groupK.copy()\n",
    "(data_groupK_copy['Comment'] + ' ' + data_groupK_copy['Comment'].iloc[0]).iloc[2]"
   ]
  },
  {
   "cell_type": "code",
   "execution_count": 26,
   "metadata": {},
   "outputs": [],
   "source": [
    "data_train_copy = data_train.copy()\n",
    "data_groupK = data_train[data_train['Label_encoded'] == 5].copy()\n",
    "\n",
    "for k in range(len(data_groupK)):\n",
    "    data_groupK_copy = data_groupK.copy()\n",
    "    data_groupK_copy['Comment'] = data_groupK_copy['Comment'] + ' ' + data_groupK_copy['Comment'].iloc[k]\n",
    "    data_train_copy = pd.concat([data_train_copy, data_groupK_copy])"
   ]
  },
  {
   "cell_type": "code",
   "execution_count": 27,
   "metadata": {},
   "outputs": [
    {
     "data": {
      "text/plain": [
       "(5725, 8)"
      ]
     },
     "execution_count": 27,
     "metadata": {},
     "output_type": "execute_result"
    }
   ],
   "source": [
    "data_train_copy.shape"
   ]
  },
  {
   "cell_type": "code",
   "execution_count": 28,
   "metadata": {},
   "outputs": [
    {
     "data": {
      "text/plain": [
       "<matplotlib.axes._subplots.AxesSubplot at 0x17eaeae0a90>"
      ]
     },
     "execution_count": 28,
     "metadata": {},
     "output_type": "execute_result"
    },
    {
     "data": {
      "image/png": "[encoded data removed]",
      "text/plain": [
       "<Figure size 432x288 with 1 Axes>"
      ]
     },
     "metadata": {
      "needs_background": "light"
     },
     "output_type": "display_data"
    }
   ],
   "source": [
    "data_train_copy.groupby(['Label_encoded']).size().plot(kind='barh')"
   ]
  },
  {
   "cell_type": "code",
   "execution_count": 23,
   "metadata": {},
   "outputs": [
    {
     "ename": "ValueError",
     "evalue": "Cannot take a larger sample than population when 'replace=False'",
     "output_type": "error",
     "traceback": [
      "\u001b[1;31m---------------------------------------------------------------------------\u001b[0m",
      "\u001b[1;31mValueError\u001b[0m                                Traceback (most recent call last)",
      "\u001b[1;32m<ipython-input-23-2befd0a72379>\u001b[0m in \u001b[0;36m<module>\u001b[1;34m\u001b[0m\n\u001b[1;32m----> 1\u001b[1;33m \u001b[0mdata_groupK\u001b[0m \u001b[1;33m=\u001b[0m \u001b[0mdata_train\u001b[0m\u001b[1;33m[\u001b[0m\u001b[0mdata_train\u001b[0m\u001b[1;33m[\u001b[0m\u001b[1;34m'Label_encoded'\u001b[0m\u001b[1;33m]\u001b[0m \u001b[1;33m==\u001b[0m \u001b[1;36m11\u001b[0m\u001b[1;33m]\u001b[0m\u001b[1;33m.\u001b[0m\u001b[0mcopy\u001b[0m\u001b[1;33m(\u001b[0m\u001b[1;33m)\u001b[0m\u001b[1;33m.\u001b[0m\u001b[0msample\u001b[0m\u001b[1;33m(\u001b[0m\u001b[0mn\u001b[0m\u001b[1;33m=\u001b[0m\u001b[1;36m115\u001b[0m\u001b[1;33m,\u001b[0m \u001b[0mrandom_state\u001b[0m\u001b[1;33m=\u001b[0m\u001b[1;36m42\u001b[0m\u001b[1;33m)\u001b[0m\u001b[1;33m\u001b[0m\u001b[1;33m\u001b[0m\u001b[0m\n\u001b[0m",
      "\u001b[1;32m~\\Anaconda3\\lib\\site-packages\\pandas\\core\\generic.py\u001b[0m in \u001b[0;36msample\u001b[1;34m(self, n, frac, replace, weights, random_state, axis)\u001b[0m\n\u001b[0;32m   5059\u001b[0m             )\n\u001b[0;32m   5060\u001b[0m \u001b[1;33m\u001b[0m\u001b[0m\n\u001b[1;32m-> 5061\u001b[1;33m         \u001b[0mlocs\u001b[0m \u001b[1;33m=\u001b[0m \u001b[0mrs\u001b[0m\u001b[1;33m.\u001b[0m\u001b[0mchoice\u001b[0m\u001b[1;33m(\u001b[0m\u001b[0maxis_length\u001b[0m\u001b[1;33m,\u001b[0m \u001b[0msize\u001b[0m\u001b[1;33m=\u001b[0m\u001b[0mn\u001b[0m\u001b[1;33m,\u001b[0m \u001b[0mreplace\u001b[0m\u001b[1;33m=\u001b[0m\u001b[0mreplace\u001b[0m\u001b[1;33m,\u001b[0m \u001b[0mp\u001b[0m\u001b[1;33m=\u001b[0m\u001b[0mweights\u001b[0m\u001b[1;33m)\u001b[0m\u001b[1;33m\u001b[0m\u001b[1;33m\u001b[0m\u001b[0m\n\u001b[0m\u001b[0;32m   5062\u001b[0m         \u001b[1;32mreturn\u001b[0m \u001b[0mself\u001b[0m\u001b[1;33m.\u001b[0m\u001b[0mtake\u001b[0m\u001b[1;33m(\u001b[0m\u001b[0mlocs\u001b[0m\u001b[1;33m,\u001b[0m \u001b[0maxis\u001b[0m\u001b[1;33m=\u001b[0m\u001b[0maxis\u001b[0m\u001b[1;33m)\u001b[0m\u001b[1;33m\u001b[0m\u001b[1;33m\u001b[0m\u001b[0m\n\u001b[0;32m   5063\u001b[0m \u001b[1;33m\u001b[0m\u001b[0m\n",
      "\u001b[1;32mmtrand.pyx\u001b[0m in \u001b[0;36mnumpy.random.mtrand.RandomState.choice\u001b[1;34m()\u001b[0m\n",
      "\u001b[1;31mValueError\u001b[0m: Cannot take a larger sample than population when 'replace=False'"
     ]
    }
   ],
   "source": [
    "data_groupK = data_train[data_train['Label_encoded'] == 11].copy().sample(n=115, random_state=42)"
   ]
  },
  {
   "cell_type": "code",
   "execution_count": 42,
   "metadata": {},
   "outputs": [],
   "source": [
    "# data_train_copy = data_train.copy()\n",
    "data_groupK = data_train[data_train['Label_encoded'] == 11].copy().sample(n=15, random_state=42)\n",
    "\n",
    "for k in range(len(data_groupK)):\n",
    "    data_groupK_copy = data_groupK.copy()\n",
    "    data_groupK_copy['Comment'] = data_groupK_copy['Comment'] + ' ' + data_groupK_copy['Comment'].iloc[k]\n",
    "    data_train_copy = pd.concat([data_train_copy, data_groupK_copy])"
   ]
  },
  {
   "cell_type": "code",
   "execution_count": 43,
   "metadata": {},
   "outputs": [
    {
     "data": {
      "text/plain": [
       "(15, 8)"
      ]
     },
     "execution_count": 43,
     "metadata": {},
     "output_type": "execute_result"
    }
   ],
   "source": [
    "data_groupK.shape"
   ]
  },
  {
   "cell_type": "code",
   "execution_count": 44,
   "metadata": {},
   "outputs": [
    {
     "data": {
      "text/plain": [
       "<matplotlib.axes._subplots.AxesSubplot at 0x272a5e4e9e8>"
      ]
     },
     "execution_count": 44,
     "metadata": {},
     "output_type": "execute_result"
    },
    {
     "data": {
      "image/png": "[encoded data removed]",
      "text/plain": [
       "<Figure size 432x288 with 1 Axes>"
      ]
     },
     "metadata": {
      "needs_background": "light"
     },
     "output_type": "display_data"
    }
   ],
   "source": [
    "data_train_copy.groupby(['Label_encoded']).size().plot(kind='barh')"
   ]
  },
  {
   "cell_type": "code",
   "execution_count": 45,
   "metadata": {},
   "outputs": [],
   "source": [
    "data_train_copy.to_csv('./input/train_data_aug.csv')"
   ]
  },
  {
   "cell_type": "code",
   "execution_count": 21,
   "metadata": {},
   "outputs": [
    {
     "data": {
      "text/plain": [
       "3"
      ]
     },
     "execution_count": 21,
     "metadata": {},
     "output_type": "execute_result"
    }
   ],
   "source": [
    "int(np.sqrt(8))+1"
   ]
  },
  {
   "cell_type": "markdown",
   "metadata": {},
   "source": [
    "## automating text augmentation"
   ]
  },
  {
   "cell_type": "code",
   "execution_count": null,
   "metadata": {},
   "outputs": [],
   "source": [
    "# data_train_copy = data_train.copy()\n",
    "# label4aug = [5]\n",
    "# label_size_dict = data_train.groupby(['Label_encoded']).size()\n",
    "# for idk in label4aug:\n",
    "#     nk = int(np.sqrt())\n",
    "#     data_groupK = data_train[data_train['Label_encoded'] == 5].copy().sample(n=nk, random_state=42)\n",
    "\n",
    "#     for k in range(len(data_groupK)):\n",
    "#         data_groupK_copy = data_groupK.copy()\n",
    "#         data_groupK_copy['Comment'] = data_groupK_copy['Comment'] + ' ' + data_groupK_copy['Comment'].iloc[k]\n",
    "#         data_train_copy = pd.concat([data_train_copy, data_groupK_copy])"
   ]
  },
  {
   "cell_type": "code",
   "execution_count": 44,
   "metadata": {},
   "outputs": [],
   "source": [
    "def augK(data_train_copy, data_train, k, nk=15):\n",
    "    data_groupK = data_train[data_train['Label_encoded'] == k]\n",
    "    data_groupK1 = data_groupK.copy().sample(n=nk, random_state=42)\n",
    "    data_groupK2 = data_groupK.copy().sample(n=nk, random_state=24)\n",
    "    \n",
    "    for k in range(len(data_groupK2)):\n",
    "        data_groupK1_copy = data_groupK1.copy()\n",
    "        data_groupK1_copy['Comment'] = data_groupK1_copy['Comment'] + ' ' + data_groupK2['Comment'].iloc[k]\n",
    "        data_train_copy = pd.concat([data_train_copy, data_groupK1_copy])\n",
    "    \n",
    "    return data_train_copy\n",
    "\n",
    "data_train_copy = data_train.copy()\n",
    "label4aug = [0, 8, 13, 1, 5, 11]\n",
    "# label4aug = [5, 11]\n",
    "nk = 20\n",
    "for idk in label4aug:\n",
    "    data_train_copy = augK(data_train_copy, data_train, idk, nk)\n",
    "    \n",
    "result = data_train_copy"
   ]
  },
  {
   "cell_type": "code",
   "execution_count": 45,
   "metadata": {
    "scrolled": true
   },
   "outputs": [
    {
     "data": {
      "text/plain": [
       "<matplotlib.axes._subplots.AxesSubplot at 0x17eaffdb7f0>"
      ]
     },
     "execution_count": 45,
     "metadata": {},
     "output_type": "execute_result"
    },
    {
     "data": {
      "image/png": "[encoded data removed]",
      "text/plain": [
       "<Figure size 432x288 with 1 Axes>"
      ]
     },
     "metadata": {
      "needs_background": "light"
     },
     "output_type": "display_data"
    }
   ],
   "source": [
    "result.groupby(['Label_encoded']).size().sort_values(ascending=True).plot(kind='barh')"
   ]
  },
  {
   "cell_type": "code",
   "execution_count": 46,
   "metadata": {},
   "outputs": [],
   "source": [
    "# result.to_csv('./input/train_2aug.csv')\n",
    "# result.to_csv('./input/train_6aug.csv')"
   ]
  },
  {
   "cell_type": "code",
   "execution_count": null,
   "metadata": {},
   "outputs": [],
   "source": []
  }
 ],
 "metadata": {
  "kernelspec": {
   "display_name": "Python 3",
   "language": "python",
   "name": "python3"
  },
  "language_info": {
   "codemirror_mode": {
    "name": "ipython",
    "version": 3
   },
   "file_extension": ".py",
   "mimetype": "text/x-python",
   "name": "python",
   "nbconvert_exporter": "python",
   "pygments_lexer": "ipython3",
   "version": "3.6.9"
  }
 },
 "nbformat": 4,
 "nbformat_minor": 2
}
